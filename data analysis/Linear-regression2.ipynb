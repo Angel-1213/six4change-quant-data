{
 "cells": [
  {
   "cell_type": "code",
   "execution_count": 8,
   "metadata": {},
   "outputs": [],
   "source": [
    "from pathlib import Path\n",
    "import pandas as pd\n",
    "import seaborn as sns\n",
    "import matplotlib.pyplot as plt\n",
    "\n",
    "import statsmodels.api as sm\n",
    "from sklearn.preprocessing import OneHotEncoder"
   ]
  },
  {
   "cell_type": "code",
   "execution_count": 4,
   "metadata": {},
   "outputs": [
    {
     "name": "stdout",
     "output_type": "stream",
     "text": [
      "The RQ for this quantitative analysis is: What travel motive do cyclists in the Netherlands cycle the longest duration for, and how does age influence this?\n",
      "The hypothesis being tested is: The relationship between travel motive and duration of a cycling trip differs significantly across age groups.\n"
     ]
    }
   ],
   "source": [
    "print(\"The RQ for this quantitative analysis is: What travel motive do cyclists in the Netherlands cycle the longest duration for, and how does age influence this?\")\n",
    "print(\"The hypothesis being tested is: The relationship between travel motive and duration of a cycling trip differs significantly across age groups.\")"
   ]
  },
  {
   "cell_type": "code",
   "execution_count": 5,
   "metadata": {},
   "outputs": [],
   "source": [
    "# 1. CONFIGURATION\n",
    "# Define all paths upfront\n",
    "DATA_PATH = Path(\n",
    "    r\"csv tables\\transport_per_motive.csv\")\n",
    "OUTPUT_FOLDER_CSV = Path(\n",
    "    r\"csv tables\")\n",
    "OUTPUT_FOLDER_VIS = Path(\n",
    "    r\"visualisations\")\n",
    "\n",
    "# Ensure output folders exist\n",
    "for folder in [OUTPUT_FOLDER_CSV, OUTPUT_FOLDER_VIS]:\n",
    "    folder.mkdir(parents=True, exist_ok=True)"
   ]
  },
  {
   "cell_type": "code",
   "execution_count": 6,
   "metadata": {},
   "outputs": [],
   "source": [
    "# 2. DATA PROCESSING\n",
    "\n",
    "def load_and_clean_data(file_path):\n",
    "    \"\"\"Load and clean the raw data\"\"\"\n",
    "    data = pd.read_csv(file_path)\n",
    "\n",
    "    # Rename columns to english\n",
    "    data.rename(columns={ \n",
    "    'Geslacht': 'Gender',\n",
    "    'Leeftijd': 'Age',\n",
    "    'Vervoerwijzen': 'Mode of transport',\n",
    "    'Reismotieven': 'Travel motives',\n",
    "    'Marges': 'Margins',\n",
    "    'Perioden': 'Year',\n",
    "    'Ritten per persoon per dag (gemiddeld) (aantal)': 'Average trips per person per day',\n",
    "    'Afgelegde afstand per rit (gemiddeld) (km)': 'Average travel distance per trip (km)',\n",
    "    'Reisduur per rit (Minuten)': 'Average traveltime per tip (minutes)',\n",
    "    }, inplace=True)\n",
    "\n",
    "    # Remove unnecessary columns\n",
    "    data.drop(columns=['Mode of transport'], inplace=True)\n",
    "    data.drop(columns=['Year'], inplace=True)\n",
    "\n",
    "    # Filter only 'Value' rows\n",
    "    bicycle_data = data[data['Margins'] == 'Waarde'].copy()\n",
    "\n",
    "    # Convert European number formats\n",
    "    numeric_cols = [\n",
    "       'Average trips per person per day',\n",
    "       'Average travel distance per trip (km)',\n",
    "        'Average traveltime per tip (minutes)',\n",
    "    ]\n",
    "\n",
    "    for col in numeric_cols:\n",
    "        bicycle_data[col] = (\n",
    "            bicycle_data[col]\n",
    "            .astype(str)\n",
    "            .str.replace(',', '.')\n",
    "            .astype(float)\n",
    "        )\n",
    "\n",
    "\n",
    "    return bicycle_data"
   ]
  },
  {
   "cell_type": "code",
   "execution_count": 9,
   "metadata": {},
   "outputs": [],
   "source": [
    "# One hot encoding for categorical variables\n",
    "def one_hot_encode(data, column):\n",
    "   encoder = OneHotEncoder(sparse_output=False, drop=['Totaal']) # Initialise the encoder\n",
    "\n",
    "   one_hot_encoded = encoder.fit_transform(data[[column]]) # Fit the encder to the data and transform it\n",
    "\n",
    "   one_hot_df = pd.DataFrame(one_hot_encoded, columns=encoder.get_feature_names_out(), index=data.index) # Create a DataFrame from the encoded data\n",
    "\n",
    "   df_encoded = pd.concat([data, one_hot_df], axis=1).dropna() # Concatenate the original DataFrame with the one-hot encoded DataFrame\n",
    "\n",
    "   df_encoded = df_encoded.drop(columns=[column]) # Drop the original column after encoding\n",
    "   return df_encoded # Return the DataFrame with the one-hot encoded columns\n",
    "\n",
    "bicycle_data = load_and_clean_data(DATA_PATH) \n",
    "travel__one_hot = one_hot_encode(bicycle_data, 'Travel motives') # One-hot encode the 'Travel motives' column\n"
   ]
  },
  {
   "cell_type": "code",
   "execution_count": null,
   "metadata": {},
   "outputs": [],
   "source": [
    "# 3. LINEAR REGRESSION\n",
    "\n",
    "def linear_regression(travel__one_hot):\n",
    "    # Define predictors (all one-hot columns starting with 'Travel motives_')\n",
    "    X = travel__one_hot.filter(like='Travel motives_')\n",
    "\n",
    "    # Define response variable\n",
    "    y = travel__one_hot['Average travel distance per trip (km)']\n",
    "\n",
    "\n",
    "    # Add constant to the model (for intercept)\n",
    "    X = sm.add_constant(X)\n",
    "\n",
    "    # Fit the model\n",
    "    model = sm.OLS(y, X).fit()\n",
    "\n",
    "\n",
    "    return model"
   ]
  },
  {
   "cell_type": "code",
   "execution_count": null,
   "metadata": {},
   "outputs": [],
   "source": []
  }
 ],
 "metadata": {
  "kernelspec": {
   "display_name": "base",
   "language": "python",
   "name": "python3"
  },
  "language_info": {
   "codemirror_mode": {
    "name": "ipython",
    "version": 3
   },
   "file_extension": ".py",
   "mimetype": "text/x-python",
   "name": "python",
   "nbconvert_exporter": "python",
   "pygments_lexer": "ipython3",
   "version": "3.9.18"
  }
 },
 "nbformat": 4,
 "nbformat_minor": 2
}
